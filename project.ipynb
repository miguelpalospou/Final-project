{
 "cells": [
  {
   "cell_type": "markdown",
   "id": "d80ebc05",
   "metadata": {},
   "source": [
    "<h1 align=\"center\">\n",
    "    Flip-Flat: A real estate house price predictor📊</h1>\n",
    "<img src=\"https://i.ibb.co/FHzgLJB/BE263-D1-B-6617-43-E0-AFE6-BDF13-EAF5319.jpg\" alt=\"logo\" width=\"500\" height=\"600\">\n",
    "\n",
    "\n",
    "\n",
    "\n",
    "<img src=\"https://belbex.com/blog/wp-content/uploads/2020/12/real-estate.jpg\" alt=\"logo\" width=\"500\" height=\"600\">\n",
    "\n",
    "\n"
   ]
  },
  {
   "cell_type": "markdown",
   "id": "d3073e52",
   "metadata": {},
   "source": [
    "## Libraries"
   ]
  },
  {
   "cell_type": "code",
   "execution_count": 1,
   "id": "78b61e98",
   "metadata": {},
   "outputs": [
    {
     "ename": "IndentationError",
     "evalue": "expected an indented block after 'with' statement on line 225 (machine_learning.py, line 226)",
     "output_type": "error",
     "traceback": [
      "Traceback \u001b[0;36m(most recent call last)\u001b[0m:\n",
      "\u001b[0m  File \u001b[1;32m~/miniconda3/envs/ironhack/lib/python3.10/site-packages/IPython/core/interactiveshell.py:3553\u001b[0m in \u001b[1;35mrun_code\u001b[0m\n    exec(code_obj, self.user_global_ns, self.user_ns)\u001b[0m\n",
      "\u001b[0;36m  Cell \u001b[0;32mIn[1], line 21\u001b[0;36m\n\u001b[0;31m    import src.machine_learning as machine_learning\u001b[0;36m\n",
      "\u001b[0;36m  File \u001b[0;32m~/Desktop/IRONHACK/Projects/Final-project/src/machine_learning.py:226\u001b[0;36m\u001b[0m\n\u001b[0;31m    pickle.dump(your_model, f)\u001b[0m\n\u001b[0m    ^\u001b[0m\n\u001b[0;31mIndentationError\u001b[0m\u001b[0;31m:\u001b[0m expected an indented block after 'with' statement on line 225\n"
     ]
    }
   ],
   "source": [
    "import seaborn as sns\n",
    "import matplotlib.pyplot as plt\n",
    "import pandas as pd\n",
    "import re\n",
    "import numpy as np\n",
    "import pycountry\n",
    "import pycountry_convert as pc\n",
    "import country_converter as coco\n",
    "import geopandas as gpd\n",
    "from matplotlib.colors import ListedColormap\n",
    "import datetime as dt\n",
    "\n",
    "\n",
    "import pandas as pd\n",
    "\n",
    "from sklearn.model_selection import train_test_split\n",
    "\n",
    "import pandas as pd\n",
    "import src.cleaning as cleaning\n",
    "import src.sql_queries as sql_queries\n",
    "import src.machine_learning as machine_learning\n",
    "import pymysql\n",
    "import sqlalchemy as alch # python -m pip install --upgrade 'sqlalchemy<2.0'\n",
    "\n",
    "from getpass import getpass\n",
    "import pandas as pd\n",
    "from sqlalchemy import create_engine, text\n",
    "import time\n",
    "from dotenv import load_dotenv\n",
    "import os\n",
    "from sklearn import preprocessing"
   ]
  },
  {
   "cell_type": "markdown",
   "id": "b2e420df",
   "metadata": {},
   "source": [
    "## Objective\n",
    "### Flip-Flat is a live tools created in 2023 by Miguel Palos Pou to help potential buyers get a fair value for their new flat and help sellers understand the market trends.\n",
    "#### Flip-Flat provides a price prediction for a flat based on user inputs, including number of rooms, floor, square meters, neighborhood, etc.\n"
   ]
  },
  {
   "cell_type": "code",
   "execution_count": null,
   "id": "8b3e16e6",
   "metadata": {},
   "outputs": [],
   "source": [
    "\n",
    "df=cleaning.extraction()"
   ]
  },
  {
   "cell_type": "code",
   "execution_count": null,
   "id": "48a8dcc7",
   "metadata": {},
   "outputs": [],
   "source": [
    "df=cleaning.cleaning(df)\n",
    "df.sample()"
   ]
  },
  {
   "cell_type": "markdown",
   "id": "a4f22634",
   "metadata": {},
   "source": [
    "# Section 2: SQL queries to access key metrics\n",
    "\n",
    "## In this section some views will be included in order to quickly view some impactful metrics that will help us with the decision-making process."
   ]
  },
  {
   "cell_type": "code",
   "execution_count": null,
   "id": "9c811e20",
   "metadata": {},
   "outputs": [],
   "source": [
    "engine=sql_queries.connect(df)"
   ]
  },
  {
   "cell_type": "code",
   "execution_count": null,
   "id": "6cccee9f",
   "metadata": {},
   "outputs": [],
   "source": [
    "sql_queries.average_district(engine)"
   ]
  },
  {
   "cell_type": "code",
   "execution_count": null,
   "id": "61daef0e",
   "metadata": {},
   "outputs": [],
   "source": [
    "sql_queries.parking(engine)"
   ]
  },
  {
   "cell_type": "code",
   "execution_count": null,
   "id": "34c4a5b9",
   "metadata": {},
   "outputs": [],
   "source": [
    "sql_queries.bedrooms(engine)"
   ]
  },
  {
   "cell_type": "markdown",
   "id": "8faec05c",
   "metadata": {},
   "source": [
    "# TABLEAU"
   ]
  },
  {
   "cell_type": "code",
   "execution_count": null,
   "id": "4738313e",
   "metadata": {},
   "outputs": [],
   "source": [
    "df_tableau1=cleaning.tableau(df)\n",
    "df_tableau1"
   ]
  },
  {
   "cell_type": "markdown",
   "id": "7bbac21d",
   "metadata": {},
   "source": [
    "# MACHINE LEARNING"
   ]
  },
  {
   "cell_type": "code",
   "execution_count": null,
   "id": "2920e438",
   "metadata": {},
   "outputs": [],
   "source": [
    "df_dummy=machine_learning.preparation(df)\n",
    "df_dummy.sample()"
   ]
  },
  {
   "cell_type": "code",
   "execution_count": null,
   "id": "5c2f8966",
   "metadata": {},
   "outputs": [],
   "source": [
    "machine_learning.visuals_1(df)"
   ]
  },
  {
   "cell_type": "code",
   "execution_count": null,
   "id": "f63b64ff",
   "metadata": {},
   "outputs": [],
   "source": [
    "df_dummy.to_csv(\"/Users/miguelpalospou/Desktop/IRONHACK/Projects/Final-project/data/dummy.csv\", index=False)"
   ]
  },
  {
   "cell_type": "code",
   "execution_count": null,
   "id": "45f34f78",
   "metadata": {},
   "outputs": [],
   "source": [
    "machine_learning.linear_model(df_dummy)\n"
   ]
  },
  {
   "cell_type": "code",
   "execution_count": null,
   "id": "f1d33605",
   "metadata": {},
   "outputs": [],
   "source": [
    "machine_learning.impact_variables(df_dummy)"
   ]
  },
  {
   "cell_type": "code",
   "execution_count": null,
   "id": "4324cef5",
   "metadata": {},
   "outputs": [],
   "source": [
    "machine_learning.reproduce_model(df_dummy)"
   ]
  },
  {
   "cell_type": "code",
   "execution_count": null,
   "id": "d3a2a39f",
   "metadata": {},
   "outputs": [],
   "source": [
    "\n",
    "machine_learning.last_try(df_dummy)"
   ]
  },
  {
   "cell_type": "markdown",
   "id": "be299754",
   "metadata": {},
   "source": [
    "# Exporting"
   ]
  }
 ],
 "metadata": {
  "kernelspec": {
   "display_name": "ironhack",
   "language": "python",
   "name": "ironhack"
  },
  "language_info": {
   "codemirror_mode": {
    "name": "ipython",
    "version": 3
   },
   "file_extension": ".py",
   "mimetype": "text/x-python",
   "name": "python",
   "nbconvert_exporter": "python",
   "pygments_lexer": "ipython3",
   "version": "3.10.9"
  }
 },
 "nbformat": 4,
 "nbformat_minor": 5
}
