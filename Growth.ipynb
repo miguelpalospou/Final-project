{
 "cells": [
  {
   "cell_type": "markdown",
   "id": "d80ebc05",
   "metadata": {},
   "source": [
    "# Flatly: A flat price predictor 📊"
   ]
  },
  {
   "cell_type": "code",
   "execution_count": 1,
   "id": "3e9fa16a",
   "metadata": {},
   "outputs": [],
   "source": [
    "## A "
   ]
  },
  {
   "cell_type": "markdown",
   "id": "d3073e52",
   "metadata": {},
   "source": [
    "## Libraries"
   ]
  },
  {
   "cell_type": "code",
   "execution_count": 335,
   "id": "78b61e98",
   "metadata": {},
   "outputs": [],
   "source": [
    "import seaborn as sns\n",
    "import matplotlib.pyplot as plt\n",
    "import pandas as pd\n",
    "import re\n",
    "import numpy as np\n",
    "import requests\n",
    "from bs4 import BeautifulSoup\n",
    "import pycountry\n",
    "import pycountry_convert as pc\n",
    "import country_converter as coco\n",
    "import geopandas as gpd\n",
    "from matplotlib.colors import ListedColormap\n",
    "import datetime as dt\n",
    "from seleniumwire.undetected_chromedriver import webdriver\n",
    "from selenium.webdriver.common.by import By\n",
    "\n",
    "import random\n",
    "import requests\n",
    "from bs4 import BeautifulSoup # pip install beautifulsoup4\n",
    "import pandas as pd\n",
    "import re\n",
    "from selenium import webdriver\n",
    "import undetected_chromedriver as uc\n",
    "from seleniumwire.undetected_chromedriver import webdriver\n",
    "from selenium.webdriver.common.by import By\n",
    "from webdriver_manager.chrome import ChromeDriverManager\n",
    "from selenium import webdriver\n",
    "from selenium.webdriver.chrome.service import Service\n",
    "from webdriver_manager.chrome import ChromeDriverManager\n",
    "from selenium.webdriver.chrome.options import Options\n",
    "from bs4 import BeautifulSoup"
   ]
  },
  {
   "cell_type": "markdown",
   "id": "b2e420df",
   "metadata": {},
   "source": [
    "- actualizar nuevos pisos que aparecen, actualizacion precio solo si el precio es diferente, time stamp\n",
    "- sql\n",
    "- tableau\n",
    "- modelo\n",
    "- streamlit\n"
   ]
  },
  {
   "cell_type": "code",
   "execution_count": 301,
   "id": "8b3e16e6",
   "metadata": {},
   "outputs": [],
   "source": [
    "cv_read\n",
    "\n",
    "\n"
   ]
  },
  {
   "cell_type": "code",
   "execution_count": null,
   "id": "5a8110a0",
   "metadata": {},
   "outputs": [],
   "source": []
  }
 ],
 "metadata": {
  "kernelspec": {
   "display_name": "ironhack",
   "language": "python",
   "name": "ironhack"
  },
  "language_info": {
   "codemirror_mode": {
    "name": "ipython",
    "version": 3
   },
   "file_extension": ".py",
   "mimetype": "text/x-python",
   "name": "python",
   "nbconvert_exporter": "python",
   "pygments_lexer": "ipython3",
   "version": "3.10.4"
  }
 },
 "nbformat": 4,
 "nbformat_minor": 5
}
